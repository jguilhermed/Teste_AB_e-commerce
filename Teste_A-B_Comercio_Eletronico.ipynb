{
 "cells": [
  {
   "cell_type": "markdown",
   "id": "65550e77",
   "metadata": {},
   "source": [
    "## **Teste de hipóteses para verificar se a adição de um botão em uma página de um site de comercio eletrônico faz sentido para a empresa**"
   ]
  },
  {
   "cell_type": "code",
   "execution_count": 71,
   "id": "b473df71",
   "metadata": {},
   "outputs": [
    {
     "name": "stdout",
     "output_type": "stream",
     "text": [
      "Versão Python:3.10.9\n"
     ]
    }
   ],
   "source": [
    "from platform import python_version\n",
    "print(\"Versão Python:{}\".format(python_version()))"
   ]
  },
  {
   "cell_type": "code",
   "execution_count": 9,
   "id": "176f46a0",
   "metadata": {},
   "outputs": [],
   "source": [
    "import random\n",
    "import numpy as np\n",
    "import pandas as pd\n",
    "import matplotlib.pyplot as plt\n",
    "import seaborn as sns\n",
    "import statsmodels.api as sm\n",
    "from scipy import stats\n",
    "%matplotlib inline\n",
    "random.seed(42)"
   ]
  },
  {
   "cell_type": "code",
   "execution_count": 10,
   "id": "8b517a5d",
   "metadata": {},
   "outputs": [
    {
     "name": "stdout",
     "output_type": "stream",
     "text": [
      "Author: José Guilherme Daufenbach Júnior\n",
      "\n",
      "statsmodels: 0.13.5\n",
      "pandas     : 2.0.2\n",
      "scipy      : 1.7.3\n",
      "numpy      : 1.22.1\n",
      "seaborn    : 0.12.2\n",
      "matplotlib : 3.7.1\n",
      "\n"
     ]
    }
   ],
   "source": [
    "%reload_ext watermark\n",
    "%watermark -a \"José Guilherme Daufenbach Júnior\" --iversions"
   ]
  },
  {
   "cell_type": "markdown",
   "id": "79dc6715",
   "metadata": {},
   "source": [
    "### Carregamento dos Dados:"
   ]
  },
  {
   "cell_type": "code",
   "execution_count": 11,
   "id": "6b955c47",
   "metadata": {},
   "outputs": [],
   "source": [
    "dados = pd.read_csv(\"dados/dataset.csv\")"
   ]
  },
  {
   "cell_type": "code",
   "execution_count": 14,
   "id": "60b2e6b5",
   "metadata": {},
   "outputs": [
    {
     "data": {
      "text/plain": [
       "(294460, 5)"
      ]
     },
     "execution_count": 14,
     "metadata": {},
     "output_type": "execute_result"
    }
   ],
   "source": [
    "dados.shape"
   ]
  },
  {
   "cell_type": "code",
   "execution_count": 15,
   "id": "88bcf915",
   "metadata": {},
   "outputs": [
    {
     "data": {
      "text/html": [
       "<div>\n",
       "<style scoped>\n",
       "    .dataframe tbody tr th:only-of-type {\n",
       "        vertical-align: middle;\n",
       "    }\n",
       "\n",
       "    .dataframe tbody tr th {\n",
       "        vertical-align: top;\n",
       "    }\n",
       "\n",
       "    .dataframe thead th {\n",
       "        text-align: right;\n",
       "    }\n",
       "</style>\n",
       "<table border=\"1\" class=\"dataframe\">\n",
       "  <thead>\n",
       "    <tr style=\"text-align: right;\">\n",
       "      <th></th>\n",
       "      <th>id_usuario</th>\n",
       "      <th>timestamp</th>\n",
       "      <th>grupo</th>\n",
       "      <th>pagina</th>\n",
       "      <th>converteu</th>\n",
       "    </tr>\n",
       "  </thead>\n",
       "  <tbody>\n",
       "    <tr>\n",
       "      <th>284686</th>\n",
       "      <td>850509</td>\n",
       "      <td>2023-01-13 09:46:44.068414</td>\n",
       "      <td>controle</td>\n",
       "      <td>pagina_sem_cta</td>\n",
       "      <td>0</td>\n",
       "    </tr>\n",
       "    <tr>\n",
       "      <th>245274</th>\n",
       "      <td>917847</td>\n",
       "      <td>2023-01-22 22:36:12.887925</td>\n",
       "      <td>tratamento</td>\n",
       "      <td>pagina_com_cta</td>\n",
       "      <td>0</td>\n",
       "    </tr>\n",
       "    <tr>\n",
       "      <th>115405</th>\n",
       "      <td>657672</td>\n",
       "      <td>2023-01-17 21:08:58.930114</td>\n",
       "      <td>controle</td>\n",
       "      <td>pagina_sem_cta</td>\n",
       "      <td>0</td>\n",
       "    </tr>\n",
       "    <tr>\n",
       "      <th>200104</th>\n",
       "      <td>853861</td>\n",
       "      <td>2023-01-11 03:17:35.489813</td>\n",
       "      <td>controle</td>\n",
       "      <td>pagina_sem_cta</td>\n",
       "      <td>0</td>\n",
       "    </tr>\n",
       "    <tr>\n",
       "      <th>163796</th>\n",
       "      <td>842878</td>\n",
       "      <td>2023-01-05 03:39:56.004226</td>\n",
       "      <td>controle</td>\n",
       "      <td>pagina_sem_cta</td>\n",
       "      <td>0</td>\n",
       "    </tr>\n",
       "    <tr>\n",
       "      <th>7157</th>\n",
       "      <td>632387</td>\n",
       "      <td>2023-01-15 18:15:25.341697</td>\n",
       "      <td>tratamento</td>\n",
       "      <td>pagina_com_cta</td>\n",
       "      <td>0</td>\n",
       "    </tr>\n",
       "    <tr>\n",
       "      <th>126747</th>\n",
       "      <td>891302</td>\n",
       "      <td>2023-01-19 22:14:01.867978</td>\n",
       "      <td>tratamento</td>\n",
       "      <td>pagina_com_cta</td>\n",
       "      <td>0</td>\n",
       "    </tr>\n",
       "    <tr>\n",
       "      <th>4381</th>\n",
       "      <td>941400</td>\n",
       "      <td>2023-01-07 04:10:25.986193</td>\n",
       "      <td>tratamento</td>\n",
       "      <td>pagina_com_cta</td>\n",
       "      <td>0</td>\n",
       "    </tr>\n",
       "    <tr>\n",
       "      <th>100386</th>\n",
       "      <td>670362</td>\n",
       "      <td>2023-01-20 15:08:14.501432</td>\n",
       "      <td>controle</td>\n",
       "      <td>pagina_sem_cta</td>\n",
       "      <td>0</td>\n",
       "    </tr>\n",
       "    <tr>\n",
       "      <th>176367</th>\n",
       "      <td>671010</td>\n",
       "      <td>2023-01-21 05:34:16.410838</td>\n",
       "      <td>tratamento</td>\n",
       "      <td>pagina_com_cta</td>\n",
       "      <td>0</td>\n",
       "    </tr>\n",
       "  </tbody>\n",
       "</table>\n",
       "</div>"
      ],
      "text/plain": [
       "        id_usuario                   timestamp       grupo          pagina  \\\n",
       "284686      850509  2023-01-13 09:46:44.068414    controle  pagina_sem_cta   \n",
       "245274      917847  2023-01-22 22:36:12.887925  tratamento  pagina_com_cta   \n",
       "115405      657672  2023-01-17 21:08:58.930114    controle  pagina_sem_cta   \n",
       "200104      853861  2023-01-11 03:17:35.489813    controle  pagina_sem_cta   \n",
       "163796      842878  2023-01-05 03:39:56.004226    controle  pagina_sem_cta   \n",
       "7157        632387  2023-01-15 18:15:25.341697  tratamento  pagina_com_cta   \n",
       "126747      891302  2023-01-19 22:14:01.867978  tratamento  pagina_com_cta   \n",
       "4381        941400  2023-01-07 04:10:25.986193  tratamento  pagina_com_cta   \n",
       "100386      670362  2023-01-20 15:08:14.501432    controle  pagina_sem_cta   \n",
       "176367      671010  2023-01-21 05:34:16.410838  tratamento  pagina_com_cta   \n",
       "\n",
       "        converteu  \n",
       "284686          0  \n",
       "245274          0  \n",
       "115405          0  \n",
       "200104          0  \n",
       "163796          0  \n",
       "7157            0  \n",
       "126747          0  \n",
       "4381            0  \n",
       "100386          0  \n",
       "176367          0  "
      ]
     },
     "execution_count": 15,
     "metadata": {},
     "output_type": "execute_result"
    }
   ],
   "source": [
    "dados.sample(10)"
   ]
  },
  {
   "cell_type": "markdown",
   "id": "3fe73fae",
   "metadata": {},
   "source": [
    "### Análise exploratória dos dados:"
   ]
  },
  {
   "cell_type": "code",
   "execution_count": 17,
   "id": "00ef402b",
   "metadata": {},
   "outputs": [
    {
     "name": "stdout",
     "output_type": "stream",
     "text": [
      "id_usuario    0\n",
      "timestamp     0\n",
      "grupo         0\n",
      "pagina        0\n",
      "converteu     0\n",
      "dtype: int64\n"
     ]
    }
   ],
   "source": [
    "print(dados.isnull().sum()) #verifica valores nulos"
   ]
  },
  {
   "cell_type": "code",
   "execution_count": 18,
   "id": "e2546d8c",
   "metadata": {},
   "outputs": [
    {
     "name": "stdout",
     "output_type": "stream",
     "text": [
      "grupo\n",
      "controle      147270\n",
      "tratamento    147190\n",
      "Name: count, dtype: int64\n"
     ]
    }
   ],
   "source": [
    "print(dados['grupo'].value_counts())"
   ]
  },
  {
   "cell_type": "code",
   "execution_count": 19,
   "id": "7660861d",
   "metadata": {},
   "outputs": [
    {
     "data": {
      "text/plain": [
       "<Axes: xlabel='grupo', ylabel='count'>"
      ]
     },
     "execution_count": 19,
     "metadata": {},
     "output_type": "execute_result"
    },
    {
     "data": {
      "image/png": "[encoded data removed]",
      "text/plain": [
       "<Figure size 640x480 with 1 Axes>"
      ]
     },
     "metadata": {},
     "output_type": "display_data"
    }
   ],
   "source": [
    "sns.countplot(data = dados, x = 'grupo')"
   ]
  },
  {
   "cell_type": "code",
   "execution_count": 20,
   "id": "5549c9d8",
   "metadata": {},
   "outputs": [
    {
     "name": "stdout",
     "output_type": "stream",
     "text": [
      "converteu        0      1\n",
      "grupo                    \n",
      "controle    129756  17514\n",
      "tratamento  129467  17723\n"
     ]
    }
   ],
   "source": [
    "print(pd.crosstab(dados['grupo'], dados['converteu']))"
   ]
  },
  {
   "cell_type": "code",
   "execution_count": 23,
   "id": "f8e83ba6",
   "metadata": {},
   "outputs": [
    {
     "data": {
      "image/png": "[encoded data removed]",
      "text/plain": [
       "<Figure size 640x480 with 1 Axes>"
      ]
     },
     "metadata": {},
     "output_type": "display_data"
    }
   ],
   "source": [
    "sns.countplot(data = dados, x = 'grupo', hue = 'converteu')\n",
    "plt.show()"
   ]
  },
  {
   "cell_type": "code",
   "execution_count": 33,
   "id": "37e07509",
   "metadata": {},
   "outputs": [
    {
     "name": "stdout",
     "output_type": "stream",
     "text": [
      "pagina      pagina_com_cta  pagina_sem_cta\n",
      "grupo                                     \n",
      "controle              1965          145305\n",
      "tratamento          145262            1928\n"
     ]
    }
   ],
   "source": [
    "# Verifica a relação entre a coluna 'grupo' e a coluna 'pagina':\n",
    "print(pd.crosstab(dados['grupo'], dados['pagina']))"
   ]
  },
  {
   "cell_type": "markdown",
   "id": "ea6796c5",
   "metadata": {},
   "source": [
    "### Teste A/B com Teste Estatístico"
   ]
  },
  {
   "cell_type": "code",
   "execution_count": 34,
   "id": "e7d6cd04",
   "metadata": {},
   "outputs": [],
   "source": [
    "grupo_controle = dados[dados.grupo == 'controle']\n",
    "grupo_tratamento = dados[dados.grupo == 'tratamento']"
   ]
  },
  {
   "cell_type": "code",
   "execution_count": 35,
   "id": "d6290a3c",
   "metadata": {},
   "outputs": [
    {
     "data": {
      "text/html": [
       "<div>\n",
       "<style scoped>\n",
       "    .dataframe tbody tr th:only-of-type {\n",
       "        vertical-align: middle;\n",
       "    }\n",
       "\n",
       "    .dataframe tbody tr th {\n",
       "        vertical-align: top;\n",
       "    }\n",
       "\n",
       "    .dataframe thead th {\n",
       "        text-align: right;\n",
       "    }\n",
       "</style>\n",
       "<table border=\"1\" class=\"dataframe\">\n",
       "  <thead>\n",
       "    <tr style=\"text-align: right;\">\n",
       "      <th></th>\n",
       "      <th>id_usuario</th>\n",
       "      <th>timestamp</th>\n",
       "      <th>grupo</th>\n",
       "      <th>pagina</th>\n",
       "      <th>converteu</th>\n",
       "    </tr>\n",
       "  </thead>\n",
       "  <tbody>\n",
       "    <tr>\n",
       "      <th>1</th>\n",
       "      <td>888545</td>\n",
       "      <td>2023-01-08 06:37:26.332945</td>\n",
       "      <td>controle</td>\n",
       "      <td>pagina_sem_cta</td>\n",
       "      <td>1</td>\n",
       "    </tr>\n",
       "    <tr>\n",
       "      <th>4</th>\n",
       "      <td>892356</td>\n",
       "      <td>2023-01-05 09:35:14.904865</td>\n",
       "      <td>controle</td>\n",
       "      <td>pagina_sem_cta</td>\n",
       "      <td>1</td>\n",
       "    </tr>\n",
       "    <tr>\n",
       "      <th>5</th>\n",
       "      <td>661590</td>\n",
       "      <td>2023-01-11 16:55:06.154213</td>\n",
       "      <td>controle</td>\n",
       "      <td>pagina_sem_cta</td>\n",
       "      <td>0</td>\n",
       "    </tr>\n",
       "    <tr>\n",
       "      <th>6</th>\n",
       "      <td>853541</td>\n",
       "      <td>2023-01-08 18:28:03.143765</td>\n",
       "      <td>controle</td>\n",
       "      <td>pagina_sem_cta</td>\n",
       "      <td>0</td>\n",
       "    </tr>\n",
       "    <tr>\n",
       "      <th>9</th>\n",
       "      <td>679687</td>\n",
       "      <td>2023-01-19 03:26:46.940749</td>\n",
       "      <td>controle</td>\n",
       "      <td>pagina_sem_cta</td>\n",
       "      <td>1</td>\n",
       "    </tr>\n",
       "  </tbody>\n",
       "</table>\n",
       "</div>"
      ],
      "text/plain": [
       "   id_usuario                   timestamp     grupo          pagina  converteu\n",
       "1      888545  2023-01-08 06:37:26.332945  controle  pagina_sem_cta          1\n",
       "4      892356  2023-01-05 09:35:14.904865  controle  pagina_sem_cta          1\n",
       "5      661590  2023-01-11 16:55:06.154213  controle  pagina_sem_cta          0\n",
       "6      853541  2023-01-08 18:28:03.143765  controle  pagina_sem_cta          0\n",
       "9      679687  2023-01-19 03:26:46.940749  controle  pagina_sem_cta          1"
      ]
     },
     "execution_count": 35,
     "metadata": {},
     "output_type": "execute_result"
    }
   ],
   "source": [
    "grupo_controle.head()"
   ]
  },
  {
   "cell_type": "code",
   "execution_count": 36,
   "id": "cd694fd2",
   "metadata": {},
   "outputs": [
    {
     "data": {
      "text/html": [
       "<div>\n",
       "<style scoped>\n",
       "    .dataframe tbody tr th:only-of-type {\n",
       "        vertical-align: middle;\n",
       "    }\n",
       "\n",
       "    .dataframe tbody tr th {\n",
       "        vertical-align: top;\n",
       "    }\n",
       "\n",
       "    .dataframe thead th {\n",
       "        text-align: right;\n",
       "    }\n",
       "</style>\n",
       "<table border=\"1\" class=\"dataframe\">\n",
       "  <thead>\n",
       "    <tr style=\"text-align: right;\">\n",
       "      <th></th>\n",
       "      <th>id_usuario</th>\n",
       "      <th>timestamp</th>\n",
       "      <th>grupo</th>\n",
       "      <th>pagina</th>\n",
       "      <th>converteu</th>\n",
       "    </tr>\n",
       "  </thead>\n",
       "  <tbody>\n",
       "    <tr>\n",
       "      <th>0</th>\n",
       "      <td>847721</td>\n",
       "      <td>2023-01-17 14:01:00.090575</td>\n",
       "      <td>tratamento</td>\n",
       "      <td>pagina_com_cta</td>\n",
       "      <td>0</td>\n",
       "    </tr>\n",
       "    <tr>\n",
       "      <th>2</th>\n",
       "      <td>851104</td>\n",
       "      <td>2023-01-21 22:11:48.556739</td>\n",
       "      <td>tratamento</td>\n",
       "      <td>pagina_com_cta</td>\n",
       "      <td>0</td>\n",
       "    </tr>\n",
       "    <tr>\n",
       "      <th>3</th>\n",
       "      <td>804228</td>\n",
       "      <td>2023-01-12 08:01:45.159739</td>\n",
       "      <td>tratamento</td>\n",
       "      <td>pagina_com_cta</td>\n",
       "      <td>0</td>\n",
       "    </tr>\n",
       "    <tr>\n",
       "      <th>7</th>\n",
       "      <td>864975</td>\n",
       "      <td>2023-01-21 01:52:26.210827</td>\n",
       "      <td>tratamento</td>\n",
       "      <td>pagina_com_cta</td>\n",
       "      <td>1</td>\n",
       "    </tr>\n",
       "    <tr>\n",
       "      <th>8</th>\n",
       "      <td>936923</td>\n",
       "      <td>2023-01-10 15:20:49.083499</td>\n",
       "      <td>tratamento</td>\n",
       "      <td>pagina_com_cta</td>\n",
       "      <td>0</td>\n",
       "    </tr>\n",
       "  </tbody>\n",
       "</table>\n",
       "</div>"
      ],
      "text/plain": [
       "   id_usuario                   timestamp       grupo          pagina  \\\n",
       "0      847721  2023-01-17 14:01:00.090575  tratamento  pagina_com_cta   \n",
       "2      851104  2023-01-21 22:11:48.556739  tratamento  pagina_com_cta   \n",
       "3      804228  2023-01-12 08:01:45.159739  tratamento  pagina_com_cta   \n",
       "7      864975  2023-01-21 01:52:26.210827  tratamento  pagina_com_cta   \n",
       "8      936923  2023-01-10 15:20:49.083499  tratamento  pagina_com_cta   \n",
       "\n",
       "   converteu  \n",
       "0          0  \n",
       "2          0  \n",
       "3          0  \n",
       "7          1  \n",
       "8          0  "
      ]
     },
     "execution_count": 36,
     "metadata": {},
     "output_type": "execute_result"
    }
   ],
   "source": [
    "grupo_tratamento.head()"
   ]
  },
  {
   "cell_type": "code",
   "execution_count": 37,
   "id": "dd86baec",
   "metadata": {},
   "outputs": [],
   "source": [
    "taxa_controle = grupo_controle['converteu'].mean()\n",
    "taxa_tratamento = grupo_tratamento['converteu'].mean()"
   ]
  },
  {
   "cell_type": "code",
   "execution_count": 40,
   "id": "ff8e9e73",
   "metadata": {},
   "outputs": [
    {
     "name": "stdout",
     "output_type": "stream",
     "text": [
      "11.892442452638011 %\n",
      "12.040899517630274 %\n"
     ]
    }
   ],
   "source": [
    "print(taxa_controle*100,'%')\n",
    "print(taxa_tratamento*100,'%')"
   ]
  },
  {
   "cell_type": "code",
   "execution_count": 41,
   "id": "fb881e7b",
   "metadata": {},
   "outputs": [],
   "source": [
    "#Teste de Hipótese:\n",
    "alfa = 0.05\n",
    "hipotese_nula = 'Não há diferença na taxa de conversão entre a pagina_com_cta e a pagina_sem_cta'\n",
    "hipotese_aternativa = 'Há diferença na taxa de conversão entre a pagina_com_cta e a pagina_sem_cta'"
   ]
  },
  {
   "cell_type": "code",
   "execution_count": 42,
   "id": "f463b446",
   "metadata": {},
   "outputs": [],
   "source": [
    "estatistica_t, p_valor = stats.ttest_ind(grupo_controle['converteu'], grupo_tratamento['converteu'])"
   ]
  },
  {
   "cell_type": "code",
   "execution_count": 49,
   "id": "e795864e",
   "metadata": {},
   "outputs": [
    {
     "name": "stdout",
     "output_type": "stream",
     "text": [
      "Estatística t: -1.2410056296293919\n",
      "Valor-p: 0.21460465788124802\n"
     ]
    }
   ],
   "source": [
    "print(f\"Estatística t: {estatistica_t}\")\n",
    "print(f\"Valor-p: {p_valor}\")"
   ]
  },
  {
   "cell_type": "code",
   "execution_count": 50,
   "id": "8c851912",
   "metadata": {},
   "outputs": [
    {
     "name": "stdout",
     "output_type": "stream",
     "text": [
      "Falhamos em rejeitar a hipótese nula. Não há diferença na taxa de conversão entre a pagina_com_cta e a pagina_sem_cta\n"
     ]
    }
   ],
   "source": [
    "if p_valor < alfa:\n",
    "    print(f\"Rejeitamos a hipótese nula. {hipotese_alternativa}\")\n",
    "else:\n",
    "    print(f\"Falhamos em rejeitar a hipótese nula. {hipotese_nula}\")\n",
    "    "
   ]
  },
  {
   "cell_type": "markdown",
   "id": "4113e03a",
   "metadata": {},
   "source": [
    "### Teste A/B com Regressão Logistica:"
   ]
  },
  {
   "cell_type": "code",
   "execution_count": 58,
   "id": "331b5633",
   "metadata": {},
   "outputs": [],
   "source": [
    "dados['grupo_encoded'] = pd.get_dummies(dados['grupo'], drop_first=True, dtype='int')"
   ]
  },
  {
   "cell_type": "code",
   "execution_count": 59,
   "id": "29c7fd6c",
   "metadata": {},
   "outputs": [
    {
     "data": {
      "text/html": [
       "<div>\n",
       "<style scoped>\n",
       "    .dataframe tbody tr th:only-of-type {\n",
       "        vertical-align: middle;\n",
       "    }\n",
       "\n",
       "    .dataframe tbody tr th {\n",
       "        vertical-align: top;\n",
       "    }\n",
       "\n",
       "    .dataframe thead th {\n",
       "        text-align: right;\n",
       "    }\n",
       "</style>\n",
       "<table border=\"1\" class=\"dataframe\">\n",
       "  <thead>\n",
       "    <tr style=\"text-align: right;\">\n",
       "      <th></th>\n",
       "      <th>id_usuario</th>\n",
       "      <th>timestamp</th>\n",
       "      <th>grupo</th>\n",
       "      <th>pagina</th>\n",
       "      <th>converteu</th>\n",
       "      <th>grupo_encoded</th>\n",
       "    </tr>\n",
       "  </thead>\n",
       "  <tbody>\n",
       "    <tr>\n",
       "      <th>0</th>\n",
       "      <td>847721</td>\n",
       "      <td>2023-01-17 14:01:00.090575</td>\n",
       "      <td>tratamento</td>\n",
       "      <td>pagina_com_cta</td>\n",
       "      <td>0</td>\n",
       "      <td>1</td>\n",
       "    </tr>\n",
       "    <tr>\n",
       "      <th>1</th>\n",
       "      <td>888545</td>\n",
       "      <td>2023-01-08 06:37:26.332945</td>\n",
       "      <td>controle</td>\n",
       "      <td>pagina_sem_cta</td>\n",
       "      <td>1</td>\n",
       "      <td>0</td>\n",
       "    </tr>\n",
       "    <tr>\n",
       "      <th>2</th>\n",
       "      <td>851104</td>\n",
       "      <td>2023-01-21 22:11:48.556739</td>\n",
       "      <td>tratamento</td>\n",
       "      <td>pagina_com_cta</td>\n",
       "      <td>0</td>\n",
       "      <td>1</td>\n",
       "    </tr>\n",
       "    <tr>\n",
       "      <th>3</th>\n",
       "      <td>804228</td>\n",
       "      <td>2023-01-12 08:01:45.159739</td>\n",
       "      <td>tratamento</td>\n",
       "      <td>pagina_com_cta</td>\n",
       "      <td>0</td>\n",
       "      <td>1</td>\n",
       "    </tr>\n",
       "    <tr>\n",
       "      <th>4</th>\n",
       "      <td>892356</td>\n",
       "      <td>2023-01-05 09:35:14.904865</td>\n",
       "      <td>controle</td>\n",
       "      <td>pagina_sem_cta</td>\n",
       "      <td>1</td>\n",
       "      <td>0</td>\n",
       "    </tr>\n",
       "  </tbody>\n",
       "</table>\n",
       "</div>"
      ],
      "text/plain": [
       "   id_usuario                   timestamp       grupo          pagina  \\\n",
       "0      847721  2023-01-17 14:01:00.090575  tratamento  pagina_com_cta   \n",
       "1      888545  2023-01-08 06:37:26.332945    controle  pagina_sem_cta   \n",
       "2      851104  2023-01-21 22:11:48.556739  tratamento  pagina_com_cta   \n",
       "3      804228  2023-01-12 08:01:45.159739  tratamento  pagina_com_cta   \n",
       "4      892356  2023-01-05 09:35:14.904865    controle  pagina_sem_cta   \n",
       "\n",
       "   converteu  grupo_encoded  \n",
       "0          0              1  \n",
       "1          1              0  \n",
       "2          0              1  \n",
       "3          0              1  \n",
       "4          1              0  "
      ]
     },
     "execution_count": 59,
     "metadata": {},
     "output_type": "execute_result"
    }
   ],
   "source": [
    "dados.head()"
   ]
  },
  {
   "cell_type": "code",
   "execution_count": 63,
   "id": "4fda23fd",
   "metadata": {},
   "outputs": [],
   "source": [
    "y = dados['converteu']\n",
    "x = dados['grupo_encoded']"
   ]
  },
  {
   "cell_type": "code",
   "execution_count": 64,
   "id": "4b98f70a",
   "metadata": {},
   "outputs": [],
   "source": [
    "x = sm.add_constant(x)"
   ]
  },
  {
   "cell_type": "code",
   "execution_count": 65,
   "id": "9d11b4da",
   "metadata": {},
   "outputs": [],
   "source": [
    "modelo_logit = sm.Logit(y,x)"
   ]
  },
  {
   "cell_type": "code",
   "execution_count": 66,
   "id": "7a014a11",
   "metadata": {},
   "outputs": [
    {
     "name": "stdout",
     "output_type": "stream",
     "text": [
      "Optimization terminated successfully.\n",
      "         Current function value: 0.366257\n",
      "         Iterations 6\n"
     ]
    }
   ],
   "source": [
    "modelo = modelo_logit.fit()"
   ]
  },
  {
   "cell_type": "code",
   "execution_count": 67,
   "id": "fe87a22b",
   "metadata": {},
   "outputs": [
    {
     "name": "stdout",
     "output_type": "stream",
     "text": [
      "                           Logit Regression Results                           \n",
      "==============================================================================\n",
      "Dep. Variable:              converteu   No. Observations:               294460\n",
      "Model:                          Logit   Df Residuals:                   294458\n",
      "Method:                           MLE   Df Model:                            1\n",
      "Date:                Thu, 20 Jul 2023   Pseudo R-squ.:               7.140e-06\n",
      "Time:                        14:20:23   Log-Likelihood:            -1.0785e+05\n",
      "converged:                       True   LL-Null:                   -1.0785e+05\n",
      "Covariance Type:            nonrobust   LLR p-value:                    0.2146\n",
      "=================================================================================\n",
      "                    coef    std err          z      P>|z|      [0.025      0.975]\n",
      "---------------------------------------------------------------------------------\n",
      "const            -2.0027      0.008   -248.774      0.000      -2.018      -1.987\n",
      "grupo_encoded     0.0141      0.011      1.241      0.215      -0.008       0.036\n",
      "=================================================================================\n"
     ]
    }
   ],
   "source": [
    "print(modelo.summary())"
   ]
  },
  {
   "cell_type": "code",
   "execution_count": 68,
   "id": "185fba8d",
   "metadata": {},
   "outputs": [],
   "source": [
    "#calculando os odds ratio\n",
    "odds_ratio = pd.DataFrame({'coef': modelo.params, 'OR': np.exp(modelo.params)})"
   ]
  },
  {
   "cell_type": "code",
   "execution_count": 69,
   "id": "2d2d9e35",
   "metadata": {},
   "outputs": [
    {
     "data": {
      "text/plain": [
       "const           -2.002655\n",
       "grupo_encoded    0.014092\n",
       "dtype: float64"
      ]
     },
     "execution_count": 69,
     "metadata": {},
     "output_type": "execute_result"
    }
   ],
   "source": [
    "modelo.params"
   ]
  },
  {
   "cell_type": "code",
   "execution_count": 70,
   "id": "b745ec87",
   "metadata": {},
   "outputs": [
    {
     "name": "stdout",
     "output_type": "stream",
     "text": [
      "                   coef        OR\n",
      "const         -2.002655  0.134976\n",
      "grupo_encoded  0.014092  1.014192\n"
     ]
    }
   ],
   "source": [
    "print(odds_ratio)"
   ]
  },
  {
   "cell_type": "markdown",
   "id": "61633786",
   "metadata": {},
   "source": [
    "## Conclusão:\n",
    "#### Após o teste A/B para um site de comércio eletrônico a fim de dicidir se a empresa deveria implementar a nova página, verificou-se que não há evidências de que a taxa de conversão aumente no grupo de controle. Portanto, deixar a página na versão antiga parece o mais adequado."
   ]
  },
  {
   "cell_type": "code",
   "execution_count": null,
   "id": "e2b24bfd",
   "metadata": {},
   "outputs": [],
   "source": []
  }
 ],
 "metadata": {
  "kernelspec": {
   "display_name": "Python 3 (ipykernel)",
   "language": "python",
   "name": "python3"
  },
  "language_info": {
   "codemirror_mode": {
    "name": "ipython",
    "version": 3
   },
   "file_extension": ".py",
   "mimetype": "text/x-python",
   "name": "python",
   "nbconvert_exporter": "python",
   "pygments_lexer": "ipython3",
   "version": "3.10.9"
  }
 },
 "nbformat": 4,
 "nbformat_minor": 5
}
